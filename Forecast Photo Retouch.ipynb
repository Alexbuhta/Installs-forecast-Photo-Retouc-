{
 "cells": [
  {
   "cell_type": "code",
   "execution_count": 26,
   "id": "8a0424b6",
   "metadata": {},
   "outputs": [
    {
     "data": {
      "text/html": [
       "<div>\n",
       "<style scoped>\n",
       "    .dataframe tbody tr th:only-of-type {\n",
       "        vertical-align: middle;\n",
       "    }\n",
       "\n",
       "    .dataframe tbody tr th {\n",
       "        vertical-align: top;\n",
       "    }\n",
       "\n",
       "    .dataframe thead th {\n",
       "        text-align: right;\n",
       "    }\n",
       "</style>\n",
       "<table border=\"1\" class=\"dataframe\">\n",
       "  <thead>\n",
       "    <tr style=\"text-align: right;\">\n",
       "      <th></th>\n",
       "      <th>t</th>\n",
       "      <th>yt</th>\n",
       "    </tr>\n",
       "  </thead>\n",
       "  <tbody>\n",
       "    <tr>\n",
       "      <th>0</th>\n",
       "      <td>1</td>\n",
       "      <td>68</td>\n",
       "    </tr>\n",
       "    <tr>\n",
       "      <th>1</th>\n",
       "      <td>2</td>\n",
       "      <td>67</td>\n",
       "    </tr>\n",
       "    <tr>\n",
       "      <th>2</th>\n",
       "      <td>3</td>\n",
       "      <td>59</td>\n",
       "    </tr>\n",
       "    <tr>\n",
       "      <th>3</th>\n",
       "      <td>4</td>\n",
       "      <td>38</td>\n",
       "    </tr>\n",
       "    <tr>\n",
       "      <th>4</th>\n",
       "      <td>5</td>\n",
       "      <td>30</td>\n",
       "    </tr>\n",
       "  </tbody>\n",
       "</table>\n",
       "</div>"
      ],
      "text/plain": [
       "   t  yt\n",
       "0  1  68\n",
       "1  2  67\n",
       "2  3  59\n",
       "3  4  38\n",
       "4  5  30"
      ]
     },
     "execution_count": 26,
     "metadata": {},
     "output_type": "execute_result"
    }
   ],
   "source": [
    "import pandas as pd\n",
    "excel_data_df = pd.read_csv('PR_organic.csv')\n",
    "excel_data_df.head()"
   ]
  },
  {
   "cell_type": "code",
   "execution_count": null,
   "id": "2157b497",
   "metadata": {},
   "outputs": [],
   "source": [
    "#получение функции для линейного тренда, прогнозирование установок по каждой гео исходя из затрат на рекламу\n",
    "#выгружаем данные по установкам, обрабатываем с помощью сглаживания и скользящей средней\n",
    "\n"
   ]
  },
  {
   "cell_type": "code",
   "execution_count": 27,
   "id": "e24f3a05",
   "metadata": {},
   "outputs": [],
   "source": [
    "yts = []\n",
    "yts.append(excel_data_df['yt'][0])\n",
    "i=0\n",
    "for element in excel_data_df['yt']:\n",
    "  i=i+1\n",
    "  if(i>excel_data_df['yt'].size-2):\n",
    "    pass\n",
    "  else:\n",
    "    yts_per = (excel_data_df['yt'][i-1]+2*excel_data_df['yt'][i]+excel_data_df['yt'][i+1])/4\n",
    "    yts.append(yts_per)\n",
    "yts.append(excel_data_df['yt'][i-1])"
   ]
  },
  {
   "cell_type": "code",
   "execution_count": 28,
   "id": "233cbada",
   "metadata": {},
   "outputs": [
    {
     "data": {
      "text/html": [
       "<div>\n",
       "<style scoped>\n",
       "    .dataframe tbody tr th:only-of-type {\n",
       "        vertical-align: middle;\n",
       "    }\n",
       "\n",
       "    .dataframe tbody tr th {\n",
       "        vertical-align: top;\n",
       "    }\n",
       "\n",
       "    .dataframe thead th {\n",
       "        text-align: right;\n",
       "    }\n",
       "</style>\n",
       "<table border=\"1\" class=\"dataframe\">\n",
       "  <thead>\n",
       "    <tr style=\"text-align: right;\">\n",
       "      <th></th>\n",
       "      <th>t</th>\n",
       "      <th>yt</th>\n",
       "      <th>yts</th>\n",
       "    </tr>\n",
       "  </thead>\n",
       "  <tbody>\n",
       "    <tr>\n",
       "      <th>0</th>\n",
       "      <td>1</td>\n",
       "      <td>68</td>\n",
       "      <td>68.00</td>\n",
       "    </tr>\n",
       "    <tr>\n",
       "      <th>1</th>\n",
       "      <td>2</td>\n",
       "      <td>67</td>\n",
       "      <td>65.25</td>\n",
       "    </tr>\n",
       "    <tr>\n",
       "      <th>2</th>\n",
       "      <td>3</td>\n",
       "      <td>59</td>\n",
       "      <td>55.75</td>\n",
       "    </tr>\n",
       "    <tr>\n",
       "      <th>3</th>\n",
       "      <td>4</td>\n",
       "      <td>38</td>\n",
       "      <td>41.25</td>\n",
       "    </tr>\n",
       "    <tr>\n",
       "      <th>4</th>\n",
       "      <td>5</td>\n",
       "      <td>30</td>\n",
       "      <td>34.25</td>\n",
       "    </tr>\n",
       "  </tbody>\n",
       "</table>\n",
       "</div>"
      ],
      "text/plain": [
       "   t  yt    yts\n",
       "0  1  68  68.00\n",
       "1  2  67  65.25\n",
       "2  3  59  55.75\n",
       "3  4  38  41.25\n",
       "4  5  30  34.25"
      ]
     },
     "execution_count": 28,
     "metadata": {},
     "output_type": "execute_result"
    }
   ],
   "source": [
    "excel_data_df['yts'] = yts\n",
    "excel_data_df.head()"
   ]
  },
  {
   "cell_type": "code",
   "execution_count": 29,
   "id": "2ccf7279",
   "metadata": {},
   "outputs": [
    {
     "data": {
      "text/plain": [
       "[<matplotlib.lines.Line2D at 0x7fd54cee89a0>]"
      ]
     },
     "execution_count": 29,
     "metadata": {},
     "output_type": "execute_result"
    },
    {
     "data": {
      "image/png": "[encoded data removed]",
      "text/plain": [
       "<Figure size 432x288 with 1 Axes>"
      ]
     },
     "metadata": {
      "needs_background": "light"
     },
     "output_type": "display_data"
    }
   ],
   "source": [
    "import matplotlib.pyplot as plt\n",
    "plt.plot(excel_data_df['t'], excel_data_df['yt'])\n",
    "plt.plot(excel_data_df['t'], excel_data_df['yts'])"
   ]
  },
  {
   "cell_type": "code",
   "execution_count": 30,
   "id": "2d8c3180",
   "metadata": {},
   "outputs": [
    {
     "name": "stdout",
     "output_type": "stream",
     "text": [
      "Сумма по t: 496 | Сумма по t^2: 10416 | Сумма по yt: 2171.75 | Сумма по yt*t: 39996.5\n"
     ]
    }
   ],
   "source": [
    "t_list=excel_data_df['t'].values.tolist()\n",
    "yts_list=excel_data_df['yts'].values.tolist()\n",
    "i=0\n",
    "t_sum=0\n",
    "t2_sum=0\n",
    "yts_sum=0\n",
    "ytst_sum=0\n",
    "while i<len(t_list):\n",
    "  t_sum=t_list[i]+t_sum\n",
    "  t2_sum=t_list[i]*t_list[i]+t2_sum\n",
    "  yts_sum=yts_list[i]+yts_sum \n",
    "  ytst_sum=yts_list[i]*t_list[i]+ytst_sum\n",
    "  i=i+1\n",
    "print(\"Сумма по t:\", t_sum, \"| Сумма по t^2:\", t2_sum, \"| Сумма по yt:\", yts_sum, \"| Сумма по yt*t:\", ytst_sum)"
   ]
  },
  {
   "cell_type": "code",
   "execution_count": 31,
   "id": "3a4532f7",
   "metadata": {},
   "outputs": [
    {
     "name": "stdout",
     "output_type": "stream",
     "text": [
      "[36.19516129  2.11633065]\n"
     ]
    }
   ],
   "source": [
    "import numpy as np\n",
    "Matrix = np.array([[len(t_list), t_sum], [t_sum, t2_sum]]) \n",
    "Vektor = np.array([yts_sum, ytst_sum]) \n",
    "result_slau=np.linalg.solve(Matrix, Vektor)\n",
    "print(result_slau)"
   ]
  },
  {
   "cell_type": "code",
   "execution_count": null,
   "id": "a48f3148",
   "metadata": {},
   "outputs": [],
   "source": [
    "#b0 = 36.19516129, b1 = 2.11633065\n",
    "#функция линейного тренда y = b0 + b1x"
   ]
  }
 ],
 "metadata": {
  "kernelspec": {
   "display_name": "Python 3 (ipykernel)",
   "language": "python",
   "name": "python3"
  },
  "language_info": {
   "codemirror_mode": {
    "name": "ipython",
    "version": 3
   },
   "file_extension": ".py",
   "mimetype": "text/x-python",
   "name": "python",
   "nbconvert_exporter": "python",
   "pygments_lexer": "ipython3",
   "version": "3.9.7"
  }
 },
 "nbformat": 4,
 "nbformat_minor": 5
}
